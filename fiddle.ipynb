{
 "cells": [
  {
   "cell_type": "code",
   "execution_count": 2,
   "metadata": {},
   "outputs": [],
   "source": [
    "import camelot\n",
    "import tabula"
   ]
  },
  {
   "cell_type": "code",
   "execution_count": 3,
   "metadata": {},
   "outputs": [],
   "source": [
    "tabula.convert_into('test_docs/ayush_ojha_49e477fbc463ad2db87491b1bae0dafcf297270f.pdf', 'output.csv', output_format='csv', pages='all')"
   ]
  },
  {
   "cell_type": "code",
   "execution_count": 18,
   "metadata": {},
   "outputs": [],
   "source": [
    "dfs = tabula.read_pdf('test_docs/ayush_ojha_49e477fbc463ad2db87491b1bae0dafcf297270f.pdf', pages='all')"
   ]
  },
  {
   "cell_type": "code",
   "execution_count": 32,
   "metadata": {},
   "outputs": [],
   "source": [
    "dfs1 = tabula.read_pdf('test_docs/ayush-reports-july-2019-1.pdf', pages='all')"
   ]
  },
  {
   "cell_type": "code",
   "execution_count": 38,
   "metadata": {},
   "outputs": [],
   "source": [
    "dfs2 = tabula.read_pdf_with_template(\n",
    "    'test_docs/ayush_ojha_49e477fbc463ad2db87491b1bae0dafcf297270f.pdf',\n",
    "    'templates/ayush_ojha_49e477fbc463ad2db87491b1bae0dafcf297270f.tabula-template.json', pages='all')"
   ]
  },
  {
   "cell_type": "code",
   "execution_count": 47,
   "metadata": {},
   "outputs": [
    {
     "data": {
      "text/html": [
       "<div>\n",
       "<style scoped>\n",
       "    .dataframe tbody tr th:only-of-type {\n",
       "        vertical-align: middle;\n",
       "    }\n",
       "\n",
       "    .dataframe tbody tr th {\n",
       "        vertical-align: top;\n",
       "    }\n",
       "\n",
       "    .dataframe thead th {\n",
       "        text-align: right;\n",
       "    }\n",
       "</style>\n",
       "<table border=\"1\" class=\"dataframe\">\n",
       "  <thead>\n",
       "    <tr style=\"text-align: right;\">\n",
       "      <th></th>\n",
       "      <th>TEST NAME</th>\n",
       "      <th>TECHNOLOGY</th>\n",
       "      <th>VALUE</th>\n",
       "      <th>UNITS</th>\n",
       "      <th>NORMAL RANGE</th>\n",
       "    </tr>\n",
       "  </thead>\n",
       "  <tbody>\n",
       "    <tr>\n",
       "      <th>0</th>\n",
       "      <td>ALKALINE PHOSPHATASE</td>\n",
       "      <td>PHOTOMETRY</td>\n",
       "      <td>131.71</td>\n",
       "      <td>U/L</td>\n",
       "      <td>45 - 129</td>\n",
       "    </tr>\n",
       "    <tr>\n",
       "      <th>1</th>\n",
       "      <td>BILIRUBIN - TOTAL</td>\n",
       "      <td>PHOTOMETRY</td>\n",
       "      <td>1.70</td>\n",
       "      <td>mg/dl</td>\n",
       "      <td>0.3-1.2</td>\n",
       "    </tr>\n",
       "    <tr>\n",
       "      <th>2</th>\n",
       "      <td>BILIRUBIN -DIRECT</td>\n",
       "      <td>PHOTOMETRY</td>\n",
       "      <td>0.39</td>\n",
       "      <td>mg/dl</td>\n",
       "      <td>&lt; 0.3</td>\n",
       "    </tr>\n",
       "    <tr>\n",
       "      <th>3</th>\n",
       "      <td>BILIRUBIN (INDIRECT)</td>\n",
       "      <td>CALCULATED</td>\n",
       "      <td>1.31</td>\n",
       "      <td>mg/dl</td>\n",
       "      <td>0-0.9</td>\n",
       "    </tr>\n",
       "    <tr>\n",
       "      <th>4</th>\n",
       "      <td>GAMMA GLUTAMYL TRANSFERASE (GGT)</td>\n",
       "      <td>PHOTOMETRY</td>\n",
       "      <td>29.96</td>\n",
       "      <td>U/l</td>\n",
       "      <td>&lt; 55</td>\n",
       "    </tr>\n",
       "    <tr>\n",
       "      <th>5</th>\n",
       "      <td>ASPARTATE AMINOTRANSFERASE (SGOT )</td>\n",
       "      <td>PHOTOMETRY</td>\n",
       "      <td>44.74</td>\n",
       "      <td>U/l</td>\n",
       "      <td>&lt; 35</td>\n",
       "    </tr>\n",
       "    <tr>\n",
       "      <th>6</th>\n",
       "      <td>ALANINE TRANSAMINASE (SGPT)</td>\n",
       "      <td>PHOTOMETRY</td>\n",
       "      <td>54.12</td>\n",
       "      <td>U/l</td>\n",
       "      <td>&lt; 45</td>\n",
       "    </tr>\n",
       "    <tr>\n",
       "      <th>7</th>\n",
       "      <td>PROTEIN - TOTAL</td>\n",
       "      <td>PHOTOMETRY</td>\n",
       "      <td>8.24</td>\n",
       "      <td>gm/dl</td>\n",
       "      <td>5.7-8.2</td>\n",
       "    </tr>\n",
       "    <tr>\n",
       "      <th>8</th>\n",
       "      <td>ALBUMIN - SERUM</td>\n",
       "      <td>PHOTOMETRY</td>\n",
       "      <td>4.92</td>\n",
       "      <td>gm/dl</td>\n",
       "      <td>3.2-4.8</td>\n",
       "    </tr>\n",
       "    <tr>\n",
       "      <th>9</th>\n",
       "      <td>SERUM ALB/GLOBULIN RATIO</td>\n",
       "      <td>CALCULATED</td>\n",
       "      <td>1.48</td>\n",
       "      <td>Ratio</td>\n",
       "      <td>0.9 - 2</td>\n",
       "    </tr>\n",
       "    <tr>\n",
       "      <th>10</th>\n",
       "      <td>SERUM GLOBULIN</td>\n",
       "      <td>PHOTOMETRY</td>\n",
       "      <td>3.32</td>\n",
       "      <td>gm/dL</td>\n",
       "      <td>2.5-3.4</td>\n",
       "    </tr>\n",
       "  </tbody>\n",
       "</table>\n",
       "</div>"
      ],
      "text/plain": [
       "                             TEST NAME  TECHNOLOGY   VALUE  UNITS NORMAL RANGE\n",
       "0                 ALKALINE PHOSPHATASE  PHOTOMETRY  131.71    U/L     45 - 129\n",
       "1                    BILIRUBIN - TOTAL  PHOTOMETRY    1.70  mg/dl      0.3-1.2\n",
       "2                    BILIRUBIN -DIRECT  PHOTOMETRY    0.39  mg/dl        < 0.3\n",
       "3                 BILIRUBIN (INDIRECT)  CALCULATED    1.31  mg/dl        0-0.9\n",
       "4     GAMMA GLUTAMYL TRANSFERASE (GGT)  PHOTOMETRY   29.96    U/l         < 55\n",
       "5   ASPARTATE AMINOTRANSFERASE (SGOT )  PHOTOMETRY   44.74    U/l         < 35\n",
       "6          ALANINE TRANSAMINASE (SGPT)  PHOTOMETRY   54.12    U/l         < 45\n",
       "7                      PROTEIN - TOTAL  PHOTOMETRY    8.24  gm/dl      5.7-8.2\n",
       "8                      ALBUMIN - SERUM  PHOTOMETRY    4.92  gm/dl      3.2-4.8\n",
       "9             SERUM ALB/GLOBULIN RATIO  CALCULATED    1.48  Ratio      0.9 - 2\n",
       "10                      SERUM GLOBULIN  PHOTOMETRY    3.32  gm/dL      2.5-3.4"
      ]
     },
     "execution_count": 47,
     "metadata": {},
     "output_type": "execute_result"
    }
   ],
   "source": [
    "dfs2[5]"
   ]
  },
  {
   "cell_type": "code",
   "execution_count": null,
   "metadata": {},
   "outputs": [],
   "source": []
  }
 ],
 "metadata": {
  "kernelspec": {
   "display_name": "Python 3",
   "language": "python",
   "name": "python3"
  },
  "language_info": {
   "codemirror_mode": {
    "name": "ipython",
    "version": 3
   },
   "file_extension": ".py",
   "mimetype": "text/x-python",
   "name": "python",
   "nbconvert_exporter": "python",
   "pygments_lexer": "ipython3",
   "version": "3.7.7"
  }
 },
 "nbformat": 4,
 "nbformat_minor": 4
}
